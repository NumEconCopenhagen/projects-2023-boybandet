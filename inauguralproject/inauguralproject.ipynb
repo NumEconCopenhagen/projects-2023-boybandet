{
 "cells": [
  {
   "attachments": {},
   "cell_type": "markdown",
   "metadata": {},
   "source": [
    "# Inaugural Project"
   ]
  },
  {
   "attachments": {},
   "cell_type": "markdown",
   "metadata": {},
   "source": [
    "Imports and set magics are specified"
   ]
  },
  {
   "cell_type": "code",
   "execution_count": null,
   "metadata": {},
   "outputs": [],
   "source": [
    "import numpy as np\n",
    "import ipywidgets as widgets\n",
    "import matplotlib.pyplot as plt\n",
    "from scipy.stats import norm\n",
    "from types import SimpleNamespace\n",
    "from scipy import optimize\n",
    "\n",
    "# autoreload modules when code is run. Otherwise, python will not see recent changes. \n",
    "%load_ext autoreload\n",
    "%autoreload 2\n",
    "\n",
    "# Import your own code\n",
    "import inauguralproject\n",
    "import question5\n",
    "from inauguralproject import HouseholdSpecializationModelClass\n",
    "from question5 import Model2\n"
   ]
  },
  {
   "attachments": {},
   "cell_type": "markdown",
   "metadata": {},
   "source": [
    "# Question 1"
   ]
  },
  {
   "attachments": {},
   "cell_type": "markdown",
   "metadata": {},
   "source": [
    "Illustrate how $\\frac{H_F}{H_M}$ changes when varying $\\alpha \\in \\{0.25,0.50,0.75\\}$ and $\\sigma \\in \\{0.5,1.0,1.5\\}$."
   ]
  },
  {
   "attachments": {},
   "cell_type": "markdown",
   "metadata": {},
   "source": [
    "The plots down below shows the relationship between the ratio of working home between genders and alpha and sigma respectively"
   ]
  },
  {
   "cell_type": "code",
   "execution_count": null,
   "metadata": {},
   "outputs": [],
   "source": [
    "\n",
    "model = HouseholdSpecializationModelClass()\n",
    "\n",
    "model.plot_ratios_alpha()\n",
    "model.plot_ratios_sigma()\n"
   ]
  },
  {
   "attachments": {},
   "cell_type": "markdown",
   "metadata": {},
   "source": [
    "The elasticity of substitution in homeproduction between genders is $\\sigma$ whilst $\\alpha$ describes the productivity of females working from home. As shown $\\sigma$ doesn't affect hours worked at home if we hold alpha constant, since it is a parameter that expresses eleasticity of changes in homeproduction. As $\\sigma$ increases homeproduction becomes more elastic."
   ]
  },
  {
   "attachments": {},
   "cell_type": "markdown",
   "metadata": {},
   "source": [
    "# Question 2"
   ]
  },
  {
   "attachments": {},
   "cell_type": "markdown",
   "metadata": {},
   "source": [
    "Plot $log{\\frac{H_F}{H_M}}$ against $log{\\frac{w_F}{w_M}}$ for $w_F \\in [0.8,0.9,1.0,1.1,1.2]$."
   ]
  },
  {
   "cell_type": "code",
   "execution_count": null,
   "metadata": {},
   "outputs": [],
   "source": [
    "model.plot_logratios_discrete()"
   ]
  },
  {
   "attachments": {},
   "cell_type": "markdown",
   "metadata": {},
   "source": [
    "As it can be seen on the plot above, the ratio will be constant when the wage ratios are equal or shortly when men earn more money. It should also be noted, that we see a kink in the ratios due to to our discrete solving."
   ]
  },
  {
   "attachments": {},
   "cell_type": "markdown",
   "metadata": {},
   "source": [
    "# Question 3"
   ]
  },
  {
   "attachments": {},
   "cell_type": "markdown",
   "metadata": {},
   "source": [
    "*We assume that the choice set is continuous, i.e. $L_M,L_F,H_M,H_F \\in [0,24]$*\n",
    "\n",
    "Plot $log{\\frac{H_F}{H_M}}$ against $log{\\frac{w_F}{w_M}}$ for $w_F \\in [0.8,0.9,1.0,1.1,1.2]$."
   ]
  },
  {
   "cell_type": "code",
   "execution_count": null,
   "metadata": {},
   "outputs": [],
   "source": [
    "model.changes_wF()"
   ]
  },
  {
   "attachments": {},
   "cell_type": "markdown",
   "metadata": {},
   "source": [
    "The data points are now in a straight line which makes sense since time now is continuous (instead of being in intervals of half hours) which makes them able to choose a very accurate specified time for how much they work in both places"
   ]
  },
  {
   "attachments": {},
   "cell_type": "markdown",
   "metadata": {},
   "source": [
    "# Question 4"
   ]
  },
  {
   "attachments": {},
   "cell_type": "markdown",
   "metadata": {},
   "source": [
    "Choose $\\alpha$ and $\\sigma$ such it minimizes $(\\beta_0-\\hat{\\beta_0})^2+(\\beta_1-\\hat{\\beta_1})^2$. Illustrate how the model fit the data and discuss the economic interpretation of the results."
   ]
  },
  {
   "cell_type": "code",
   "execution_count": null,
   "metadata": {},
   "outputs": [],
   "source": [
    "model.estimate()"
   ]
  },
  {
   "attachments": {},
   "cell_type": "markdown",
   "metadata": {},
   "source": [
    "Observing Siminski and Yetsenga regression model it can be concluded that the interpretation of $\\beta_0$ is that for equal payment between the genders, females will work from home more often relative to men due to their utility functions.\n",
    "\n",
    "Furthermore, analysing $\\beta_1$ it can be concluded that when females wage increases relative to mens wage, they will work less from home"
   ]
  },
  {
   "attachments": {},
   "cell_type": "markdown",
   "metadata": {},
   "source": [
    "# Question 5"
   ]
  },
  {
   "attachments": {},
   "cell_type": "markdown",
   "metadata": {},
   "source": [
    "*Assume that additional empirical evidence shows that men and women are equally productive in home production, i.e. $\\alpha = 0.5$.*"
   ]
  },
  {
   "attachments": {},
   "cell_type": "markdown",
   "metadata": {},
   "source": [
    "The implementation we make to extend the model is that men get more utility from working home. This should ensure that the amount of work at home converge more towards an equal distribution between the genders i.e. an alpha around 0.5."
   ]
  },
  {
   "cell_type": "code",
   "execution_count": null,
   "metadata": {},
   "outputs": [],
   "source": [
    "model2 = Model2()"
   ]
  },
  {
   "cell_type": "code",
   "execution_count": null,
   "metadata": {},
   "outputs": [],
   "source": [
    "model2.estimate2()"
   ]
  },
  {
   "attachments": {},
   "cell_type": "markdown",
   "metadata": {},
   "source": [
    "We have now shown that for alpha equal to 0.5 the optimal value for sigma is 0.1."
   ]
  }
 ],
 "metadata": {
  "kernelspec": {
   "display_name": "base",
   "language": "python",
   "name": "python3"
  },
  "language_info": {
   "codemirror_mode": {
    "name": "ipython",
    "version": 3
   },
   "file_extension": ".py",
   "mimetype": "text/x-python",
   "name": "python",
   "nbconvert_exporter": "python",
   "pygments_lexer": "ipython3",
   "version": "3.9.16"
  },
  "toc-autonumbering": true,
  "vscode": {
   "interpreter": {
    "hash": "47ef90cdf3004d3f859f1fb202523c65c07ba7c22eefd261b181f4744e2d0403"
   }
  }
 },
 "nbformat": 4,
 "nbformat_minor": 4
}
