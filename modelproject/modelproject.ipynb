{
 "cells": [
  {
   "attachments": {},
   "cell_type": "markdown",
   "metadata": {},
   "source": [
    "# YOUR PROJECT TITLE"
   ]
  },
  {
   "attachments": {},
   "cell_type": "markdown",
   "metadata": {},
   "source": [
    "> **Note the following:** \n",
    "> 1. This is *not* meant to be an example of an actual **model analysis project**, just an example of how to structure such a project.\n",
    "> 1. Remember the general advice on structuring and commenting your code\n",
    "> 1. The `modelproject.py` file includes a function which could be used multiple times in this notebook."
   ]
  },
  {
   "attachments": {},
   "cell_type": "markdown",
   "metadata": {},
   "source": [
    "Imports and set magics:"
   ]
  },
  {
   "cell_type": "code",
   "execution_count": null,
   "metadata": {},
   "outputs": [],
   "source": [
    "import numpy as np\n",
    "from scipy import optimize\n",
    "import sympy as sm\n",
    "import matplotlib.pyplot as plt\n",
    "import ipywidgets as widgets\n",
    "from IPython.display import display\n",
    "\n",
    "# autoreload modules when code is run\n",
    "%load_ext autoreload\n",
    "%autoreload 2\n",
    "\n",
    "# local modules\n",
    "import modelproject"
   ]
  },
  {
   "attachments": {},
   "cell_type": "markdown",
   "metadata": {},
   "source": [
    "# Model description"
   ]
  },
  {
   "attachments": {},
   "cell_type": "markdown",
   "metadata": {},
   "source": [
    "**Write out the model in equations here.** \n",
    "\n",
    "Make sure you explain well the purpose of the model and comment so that other students who may not have seen it before can follow.  "
   ]
  },
  {
   "attachments": {},
   "cell_type": "markdown",
   "metadata": {},
   "source": [
    "## Analytical solution"
   ]
  },
  {
   "attachments": {},
   "cell_type": "markdown",
   "metadata": {},
   "source": [
    "If your model allows for an analytical solution, you should provide here.\n",
    "\n",
    "You may use Sympy for this. Then you can characterize the solution as a function of a parameter of the model.\n",
    "\n",
    "To characterize the solution, first derive a steady state equation as a function of a parameter using Sympy.solve and then turn it into a python function by Sympy.lambdify. See the lecture notes for details. "
   ]
  },
  {
   "attachments": {},
   "cell_type": "markdown",
   "metadata": {},
   "source": [
    "## Numerical solution"
   ]
  },
  {
   "attachments": {},
   "cell_type": "markdown",
   "metadata": {},
   "source": [
    "You can always solve a model numerically. \n",
    "\n",
    "Define first the set of parameters you need. \n",
    "\n",
    "Then choose one of the optimization algorithms that we have gone through in the lectures based on what you think is most fitting for your model.\n",
    "\n",
    "Are there any problems with convergence? Does the model converge for all starting values? Make a lot of testing to figure these things out. "
   ]
  },
  {
   "cell_type": "code",
   "execution_count": null,
   "metadata": {},
   "outputs": [],
   "source": [
    "# Set model parameters\n",
    "T = 100         # number of time periods\n",
    "alpha = 0.33   # capital share of output\n",
    "delta = 0.05    # depreciation rate\n",
    "beta = 0.7    # discount factor\n",
    "n = 0.02    # population growth\n",
    "s = 0.25    # Savings rate\n",
    "\n",
    "# Initialize arrays for variables\n",
    "K = np.zeros(T)   # capital stock\n",
    "L = np.zeros(T)   # Labour stock\n",
    "C = np.zeros(T)     # consumption\n",
    "S = np.zeros(T)   # Savings\n",
    "r = np.zeros(T)     # interest rate\n",
    "w = np.zeros(T)     # wage rate\n",
    "\n",
    "# Intial guesses\n",
    "K[0] = 1\n",
    "L[0] = 1\n",
    "\n",
    "# Loop over time periods\n",
    "for t in range(1, T):\n",
    "    # Update capital\n",
    "    K[t] = (1-delta)*K[t-1] + S[t-1]\n",
    "\n",
    "    # Update labour\n",
    "    L[t] = L[t-1]*(1+n)\n",
    "\n",
    "    # Calculate wage rate\n",
    "    w[t] = (1 - alpha) * (K[t] / L[t]) ** alpha\n",
    "    \n",
    "    # Calculate interest rate\n",
    "    r[t] = alpha * (L[t] / K[t]) ** (1 - alpha) - delta\n",
    "\n",
    "    # Calculate savings\n",
    "    S[t] = s*w[t]\n",
    "\n",
    "    # Calculate consumption\n",
    "    if t < T-1:\n",
    "        C[t] = beta * (1 + r[t+1]) * (L[t] * w[t] + (1 - delta) * K[t] - S[t])\n",
    "\n",
    "\n",
    "# Check for negative values of capital and labour\n",
    "    if K[t] < 0:\n",
    "        K[t] = 0\n",
    "    if L[t] < 0:\n",
    "        L[t] = 0\n",
    "\n",
    "\n",
    "# Create a figure with subplots\n",
    "fig, axs = plt.subplots(2, 3, figsize=(14, 10))\n",
    "\n",
    "# Plot capital stock\n",
    "axs[0, 0].plot(K[1:])\n",
    "axs[0, 0].set_title('Capital Stock')\n",
    "axs[0, 0].set_xlabel('Time Periods')\n",
    "axs[0, 0].set_ylabel('Capital Stock')\n",
    "\n",
    "# Plot wage rate\n",
    "axs[0, 1].plot(w[1:])\n",
    "axs[0, 1].set_title('Wage Rate')\n",
    "axs[0, 1].set_xlabel('Time Periods')\n",
    "axs[0, 1].set_ylabel('Wage Rate')\n",
    "\n",
    "# Plot interest rate\n",
    "axs[0, 2].plot(r[1:])\n",
    "axs[0, 2].set_title('Interest Rate')\n",
    "axs[0, 2].set_xlabel('Time Periods')\n",
    "axs[0, 2].set_ylabel('Interest Rate')\n",
    "\n",
    "# Plot labour stock\n",
    "axs[1, 0].plot(L[1:])\n",
    "axs[1, 0].set_title('Labour Stock')\n",
    "axs[1, 0].set_xlabel('Time Periods')\n",
    "axs[1, 0].set_ylabel('Labour Stock')\n",
    "\n",
    "# Plot consumption\n",
    "axs[1, 1].plot(C[1:99])\n",
    "axs[1, 1].set_title('Consumption')\n",
    "axs[1, 1].set_xlabel('Time Periods')\n",
    "axs[1, 1].set_ylabel('Consumption')\n",
    "\n",
    "# Plot consumption\n",
    "axs[1, 2].plot(S[1:])\n",
    "axs[1, 2].set_title('Savings')\n",
    "axs[1, 2].set_xlabel('Time Periods')\n",
    "axs[1, 2].set_ylabel('Savings')\n",
    "\n",
    "# Show the plot\n",
    "plt.show()"
   ]
  },
  {
   "attachments": {},
   "cell_type": "markdown",
   "metadata": {},
   "source": [
    "**Troll**"
   ]
  },
  {
   "cell_type": "code",
   "execution_count": null,
   "metadata": {},
   "outputs": [],
   "source": [
    "# Define the interactive sliders\n",
    "T_slider = widgets.IntSlider(min=1, max=200, step=1, value=100, description='T')\n",
    "alpha_slider = widgets.FloatSlider(min=0.01, max=0.99, step=0.01, value=0.33, description='alpha')\n",
    "delta_slider = widgets.FloatSlider(min=0.01, max=0.99, step=0.01, value=0.05, description='delta')\n",
    "beta_slider = widgets.FloatSlider(min=0.01, max=0.99, step=0.01, value=0.7, description='beta')\n",
    "n_slider = widgets.FloatSlider(min=0.0, max=0.1, step=0.01, value=0.02, description='n')\n",
    "s_slider = widgets.FloatSlider(min=0.0, max=0.5, step=0.01, value=0.25, description='s')\n",
    "\n",
    "# Define the function that will be called when the sliders change\n",
    "def update_plot(T, alpha, delta, beta, n, s):\n",
    "    # Initialize arrays for variables\n",
    "    K = np.zeros(T)   # capital stock\n",
    "    L = np.zeros(T)   # Labour stock\n",
    "    C = np.zeros(T)     # consumption\n",
    "    S = np.zeros(T)   # Savings\n",
    "    r = np.zeros(T)     # interest rate\n",
    "    w = np.zeros(T)     # wage rate\n",
    "\n",
    "    # Intial guesses\n",
    "    K[0] = 1\n",
    "    L[0] = 1\n",
    "\n",
    "    # Loop over time periods\n",
    "    for t in range(1, T):\n",
    "        # Update capital\n",
    "        K[t] = (1-delta)*K[t-1] + S[t-1]\n",
    "\n",
    "        # Update labour\n",
    "        L[t] = L[t-1]*(1+n)\n",
    "\n",
    "        # Calculate wage rate\n",
    "        w[t] = (1 - alpha) * (K[t] / L[t]) ** alpha\n",
    "\n",
    "        # Calculate interest rate\n",
    "        r[t] = alpha * (L[t] / K[t]) ** (1 - alpha) - delta\n",
    "\n",
    "        # Calculate savings\n",
    "        S[t] = s*w[t]\n",
    "\n",
    "        # Calculate consumption\n",
    "        if t < T-1:\n",
    "            C[t] = beta * (1 + r[t+1]) * (L[t] * w[t] + (1 - delta) * K[t] - S[t])\n",
    "\n",
    "        # Check for negative values of capital and labour\n",
    "        if K[t] < 0:\n",
    "            K[t] = 0\n",
    "        if L[t] < 0:\n",
    "            L[t] = 0\n",
    "\n",
    "    # Create a figure with subplots\n",
    "    fig, axs = plt.subplots(2, 3, figsize=(14, 10))\n",
    "\n",
    "    # Plot capital stock\n",
    "    axs[0, 0].plot(K[1:])\n",
    "    axs[0, 0].set_title('Capital Stock')\n",
    "    axs[0, 0].set_xlabel('Time Periods')\n",
    "    axs[0, 0].set_ylabel('Capital Stock')\n",
    "\n",
    "    # Plot wage rate\n",
    "    axs[0, 1].plot(w[1:])\n",
    "    axs[0, 1].set_title('Wage Rate')\n",
    "    axs[0, 1].set_xlabel('Time Periods')\n",
    "    axs[0, 1].set_ylabel('Wage Rate')\n",
    "\n",
    "    # Plot interest rate\n",
    "    axs[0, 2].plot(r[1:])\n",
    "    axs[0, 2].set_title('Interest Rate')\n",
    "    axs[0, 2].set_xlabel('Time Periods')\n",
    "    axs[0, 2].set_ylabel('Interest Rate')\n",
    "\n",
    "    # Plot labour stock\n",
    "    axs[1, 0].plot(L[1:])\n",
    "    axs[1, 0].set_title('Labour Stock')\n",
    "    axs[1, 0].set_xlabel('Time Periods')\n",
    "    axs[1, 0].set_ylabel('Labour Stock')\n",
    "\n",
    "    # Plot consumption\n",
    "    axs[1, 1].plot(C[1:99])\n",
    "    axs[1, 1].set_title('Consumption')\n",
    "    axs[1, 1].set_xlabel('Time Periods')\n",
    "    axs[1, 1].set_ylabel('Consumption')\n",
    "\n",
    "    # Plot consumption\n",
    "    axs[1, 2].plot(S[1:])\n",
    "    axs[1, 2].set_title('Savings')\n",
    "    axs[1, 2].set_xlabel('Time Periods')\n",
    "    axs[1, 2].set_ylabel('Savings')\n",
    "\n",
    "widgets.interact(update_plot,\n",
    "                 T=widgets.fixed(T),\n",
    "                 alpha=widgets.FloatSlider(\n",
    "                     description=\"$\\alpha$\", min=0.0, max=0.99, step=0.01, value=0.33),\n",
    "                 delta=widgets.FloatSlider(\n",
    "                     description=\"$\\delta$\", min=0.0, max=0.99, step=0.01, value=0.05),\n",
    "                 beta=widgets.FloatSlider(\n",
    "                     description=\"$\\beta$\", min=0.0, max=0.99, step=0.01, value=0.7),\n",
    "                 n=widgets.FloatSlider(\n",
    "                     description=\"$n$\", min=0.0, max=0.1, step=0.01, value=0.02),\n",
    "                 s=widgets.FloatSlider(\n",
    "                     description=\"$s$\", min=0.0, max=0.99, step=0.01, value=0.25)         \n",
    ")"
   ]
  },
  {
   "attachments": {},
   "cell_type": "markdown",
   "metadata": {},
   "source": [
    "# Further analysis"
   ]
  },
  {
   "attachments": {},
   "cell_type": "markdown",
   "metadata": {},
   "source": [
    "Make detailed vizualizations of how your model changes with parameter values. \n",
    "\n",
    "Try to make an extension of the model. "
   ]
  },
  {
   "attachments": {},
   "cell_type": "markdown",
   "metadata": {},
   "source": [
    "# Conclusion"
   ]
  },
  {
   "attachments": {},
   "cell_type": "markdown",
   "metadata": {},
   "source": [
    "Add concise conclusion. "
   ]
  }
 ],
 "metadata": {
  "kernelspec": {
   "display_name": "base",
   "language": "python",
   "name": "python3"
  },
  "language_info": {
   "codemirror_mode": {
    "name": "ipython",
    "version": 3
   },
   "file_extension": ".py",
   "mimetype": "text/x-python",
   "name": "python",
   "nbconvert_exporter": "python",
   "pygments_lexer": "ipython3",
   "version": "3.9.16"
  },
  "toc-autonumbering": true,
  "vscode": {
   "interpreter": {
    "hash": "47ef90cdf3004d3f859f1fb202523c65c07ba7c22eefd261b181f4744e2d0403"
   }
  }
 },
 "nbformat": 4,
 "nbformat_minor": 4
}
