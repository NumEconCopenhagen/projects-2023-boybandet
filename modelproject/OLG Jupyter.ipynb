{
 "cells": [
  {
   "attachments": {},
   "cell_type": "markdown",
   "metadata": {},
   "source": [
    "# The OLG model"
   ]
  },
  {
   "attachments": {},
   "cell_type": "markdown",
   "metadata": {},
   "source": [
    "**Time:** Discrete and indexed by $t\\in\\{0,1,\\dots\\}$."
   ]
  },
  {
   "attachments": {},
   "cell_type": "markdown",
   "metadata": {},
   "source": [
    "**Demographics:** Population is non constant and grows by the exogenous growth rate n. A life consists of\n",
    "two periods, *young* and *old*.\n",
    "\n",
    "Population is given as:\n",
    "\n",
    "$L_{t+1} = (1+n)L_{t}$"
   ]
  },
  {
   "attachments": {},
   "cell_type": "markdown",
   "metadata": {},
   "source": [
    "**Productivity:** Productivity is non constant and grows by the exogenous growth rate g. Productivity is given as:\n",
    "\n",
    "$A_{t+1} = (1+g)A_{t}$"
   ]
  },
  {
   "attachments": {},
   "cell_type": "markdown",
   "metadata": {},
   "source": [
    "**Households:** Young households supply labor exogenously and earns a  wage $w_{t}A_t$. <br>\n",
    "Consumption as young and old are denoted by $C_{1t}$ and $C_{2t+1}$. The return on saving is $r_{t+1}$.<br>\n",
    "Utility is\n",
    "    \n",
    "$$\n",
    "\\begin{aligned}\n",
    "U & =\\max_{s_{t}\\in[0,1]}\\frac{C_{1t}^{1-\\sigma}}{1-\\sigma}+\\beta\\frac{C_{2t+1}^{1-\\sigma}}{1-\\sigma},\\,\\,\\,\\beta > -1, \\sigma > 0\\\\\n",
    " & \\text{s.t.}\\\\\n",
    " & S_{t}=s_{t}w_{t}A_{t}L_{t}\\\\\n",
    " & C_{1t}=w_{t}A_{t}L_{t}-S_{t} \\\\\n",
    " & C_{2t+1}=(1+r_{t+1})S_{t}\n",
    "\\end{aligned}\n",
    "$$\n",
    "    \n",
    "The problem is formulated in terms of the saving rate $s_t\\in[0,1]$. $\\beta$ denotes the time preference of consumption. That is. Does the consumer prefer consumption when they are young or old."
   ]
  },
  {
   "attachments": {},
   "cell_type": "markdown",
   "metadata": {},
   "source": [
    "**Firms:** Firms rent capital $K_{t-1}$ at the rental rate $r_{t}^{K}$,\n",
    "and hires labor $L_{t}$ at the wage rate $w_{t}$. Firms have access\n",
    "to the production function\n",
    "    \n",
    "$$\n",
    "\\begin{aligned}\n",
    "Y_{t}=F(K_{t-1},A_{t}L_{t})=\\alpha K_{t-1}^{\\alpha-1}+(1-\\alpha)(A_{t}L_{t})^{-\\alpha},\\,\\,\\,\\alpha\\in(0,1)\n",
    "\\end{aligned}\n",
    "$$\n",
    "    \n",
    "Profits are\n",
    "    \n",
    "$$\n",
    "\\begin{aligned}\n",
    "\\Pi_{t}=Y_{t}-w_{t}A_{t}L_{t}-r_{t}^{K}K_{t-1}\n",
    "\\end{aligned}\n",
    "$$\n",
    "\n",
    "And they will seek to maximize this profit"
   ]
  },
  {
   "attachments": {},
   "cell_type": "markdown",
   "metadata": {},
   "source": [
    "**Equilibrium:**\n",
    "\n",
    "1. Households maximize utility\n",
    "2. Firms maximize profits\n",
    "3. No-arbitrage between bonds and capital\n",
    "\n",
    "    $$\n",
    "    r_{t}=r_{t}^{K}-\\delta=r_{t}^{b}\n",
    "    $$\n",
    "\n",
    "4. Labor market clears: $L_{t} = N_{t}$\n",
    "5. Goods market clears: $Y_{t}=C_{1t}+C_{2t}+I_{t}$\n",
    "6. Asset market clears: $S_{t}= K_{t}$\n",
    "7. Capital follows its law of motion: $K_{t}=(1-\\delta)K_{t-1}+I_{t}$"
   ]
  },
  {
   "attachments": {},
   "cell_type": "markdown",
   "metadata": {},
   "source": [
    "### 1.1. <a id='toc1_1_'></a>[Solution and simulation](#toc0_)"
   ]
  },
  {
   "attachments": {},
   "cell_type": "markdown",
   "metadata": {},
   "source": [
    "**Implication of profit maximization:** From FOCs\n",
    "\n",
    "$$\n",
    "\\begin{aligned}\n",
    "r_{t}^{k} & =F_{K}(K_{t-1},L_{t})=\\alpha K_{t-1}^{-\\theta-1}Y_{t}^{1+\\theta}\\\\\n",
    "w_{t} & =F_{L}(K_{t-1},L_{t})=(1-\\alpha)L_{t}^{-\\theta-1}Y_{t}^{1+\\theta}\n",
    "\\end{aligned}\n",
    "$$\n",
    "\n",
    "**Implication of utility maximization:** From FOC\n",
    "\n",
    "$$\n",
    "\\begin{aligned}\n",
    "C_{1t}^{-\\sigma}=\\beta (1+r_{t+1})C_{2t+1}^{-\\sigma}\n",
    "\\end{aligned}\n",
    "$$"
   ]
  },
  {
   "attachments": {},
   "cell_type": "markdown",
   "metadata": {},
   "source": [
    "**Simulation algorithm:** At the beginning of period $t$, the\n",
    "economy can be summarized in the state variables $K_{t-1}$ and $B_{t-1}$.<br>\n",
    "*Before* $s_t$ is known, we can calculate:\n",
    "\n",
    "$$\n",
    "\\begin{aligned}\n",
    "Y_{t} & =F(K_{t-1},1)\\\\\n",
    "r_{t}^{k} & =F_{K}(K_{t-1},1)\\\\\n",
    "w_{t} & =F_{L}(K_{t-1},1)\\\\\n",
    "r_{t} & =r^k_{t}-\\delta\\\\\n",
    "C_{2t} & =(1+{r}_{t})(K_{t-1})\\\\\n",
    "\\end{aligned}\n",
    "$$\n",
    "\n",
    "*After* $s_t$ is known we can calculate:\n",
    "\n",
    "$$\n",
    "\\begin{aligned}\n",
    "C_{1t} & = (1-s_{t})w_{t}\\\\\n",
    "I_{t} & =Y_{t}-C_{1t}-C_{2t}\\\\\n",
    "K_{t} & =(1-\\delta)K_{t-1} + I_t\n",
    "\\end{aligned}\n",
    "$$"
   ]
  },
  {
   "attachments": {},
   "cell_type": "markdown",
   "metadata": {},
   "source": [
    "**Solution algorithm:** Simulate forward choosing $s_{t}$ so\n",
    "that we always have\n",
    "\n",
    "$$\n",
    "\\begin{aligned}\n",
    "C_{1t}^{-\\sigma}=\\beta(1+\\tilde{r}_{t+1})C_{2t+1}^{-\\sigma}\n",
    "\\end{aligned}\n",
    "$$"
   ]
  },
  {
   "attachments": {},
   "cell_type": "markdown",
   "metadata": {},
   "source": [
    "**Implementation:**\n",
    "\n",
    "1. Use a bisection root-finder to determine $s_t$\n",
    "2. Low $s_t$: A lot of consumption today. Low marginal utility. LHS < RHS.\n",
    "3. High $s_t$: Little consumption today. High marginal utility. LHS > RHS.\n",
    "4. Problem: Too low $s_t$ might not be feasible if $B_t > 0$.\n",
    "\n",
    "**Note:** Never errors in the Euler-equation due to *perfect foresight*."
   ]
  },
  {
   "attachments": {},
   "cell_type": "markdown",
   "metadata": {},
   "source": [
    "## Our extension to the model"
   ]
  },
  {
   "attachments": {},
   "cell_type": "markdown",
   "metadata": {},
   "source": [
    "The model we seek to simulate is the OLG model, which has also been observed in the lectures. We have extended the model by introducing growth in productivity as well as growth in population. To narrow down the simulation process in the start it has been decided that only cobb douglas production functions will be observed. The CES function will be checked later but without an analytical solution. \n",
    "\n",
    "The analysis will have the following approach:\n",
    "1. The analytical solution will be found using the theoretical solution under assumption of log utilities, cobb douglas production and no government and compared to the analytical solution found using sympy\n",
    "2. Observing K, L and A as an argument for observing relative terms (capital per effective worker)\n",
    "3. We will observe our extended model in relative terms benchmarked against the analytical solution\n",
    "4. A check for the effects of changing to CES production function and adding taxes\n"
   ]
  },
  {
   "attachments": {},
   "cell_type": "markdown",
   "metadata": {},
   "source": [
    "But first lets do the basic imports of classes and functions."
   ]
  },
  {
   "cell_type": "code",
   "execution_count": null,
   "metadata": {},
   "outputs": [],
   "source": [
    "import numpy as np\n",
    "from scipy import optimize\n",
    "import sympy as sm\n",
    "\n",
    "# plotting\n",
    "import matplotlib.pyplot as plt \n",
    "plt.rcParams.update({\"axes.grid\":True,\"grid.color\":\"black\",\"grid.alpha\":\"0.25\",\"grid.linestyle\":\"--\"}) # set grid style\n",
    "plt.rcParams.update({'font.size': 14})\n",
    "\n",
    "\n",
    "# autoreload modules when code is run\n",
    "%load_ext autoreload\n",
    "%autoreload 2\n",
    "\n",
    "# local modules\n",
    "from Modelproject2 import OLGModelClass #Call class containing full model\n",
    "\n",
    "\n",
    "model = OLGModelClass() # Create instance of model class\n",
    "from Modelproject2 import plotKLA, plotSS, steady_state # Call functions from model class\n",
    "\n",
    "par = model.par # SimpeNamespace\n",
    "sim = model.sim # SimpeNamespace"
   ]
  },
  {
   "attachments": {},
   "cell_type": "markdown",
   "metadata": {},
   "source": [
    "**Theoretical and analytical solution**\n",
    "\n",
    "\n",
    "Before introducing anything further we wish to solve the model analytically and compare this to a simulation. Under the assumption of log utility and Coubb Doglas production function we get the following as our steady state:\n",
    "\n",
    "$k^* = \\frac{1-\\alpha}{(1+n)(1+g)(1+\\frac{1}{\\beta})}^{\\frac{1}{1-\\alpha}}$\n",
    "\n",
    "The validity of this formula will be checked using sympy but for now we have created the function annakss() which calculates the steady state value for k, aka capital per effective worker. The state state value is:"
   ]
  },
  {
   "cell_type": "code",
   "execution_count": null,
   "metadata": {},
   "outputs": [],
   "source": [
    "model.annakss()"
   ]
  },
  {
   "attachments": {},
   "cell_type": "markdown",
   "metadata": {},
   "source": [
    "As such we calculate the theoretical capital per effective worker to 0.16. This will be included into future plots to see if our simulations hits the wanted values"
   ]
  },
  {
   "attachments": {},
   "cell_type": "markdown",
   "metadata": {},
   "source": [
    "Next up we check if Sympy agrees with our formulation of the steady state. "
   ]
  },
  {
   "cell_type": "code",
   "execution_count": null,
   "metadata": {},
   "outputs": [],
   "source": [
    "steady_state()"
   ]
  },
  {
   "attachments": {},
   "cell_type": "markdown",
   "metadata": {},
   "source": [
    "As it can be seen above Sympy fully agrees with the theoretical steady state. "
   ]
  },
  {
   "attachments": {},
   "cell_type": "markdown",
   "metadata": {},
   "source": [
    "**Numerical simulation of our model**\n",
    "Now we wish to simulate the model. First off by running the code below this simulation is executed and plots of non relative variables are created. Relevant variables for now are Capital, Labor and Productivity."
   ]
  },
  {
   "cell_type": "code",
   "execution_count": null,
   "metadata": {},
   "outputs": [],
   "source": [
    "model.simulate()\n",
    "plotKLA(model.sim.K_lag,model.sim.L_lag,model.sim.A_lag)"
   ]
  },
  {
   "attachments": {},
   "cell_type": "markdown",
   "metadata": {},
   "source": [
    "As seen above all of these diverge but the sharp eye will notice, that the growth in capital approaches the combined growth of labour and productivity and thus relative terms will be observed. This can be seen below using the plotSS function which takes the capital per effective worker and compares it to the theoretical steady state"
   ]
  },
  {
   "cell_type": "code",
   "execution_count": null,
   "metadata": {},
   "outputs": [],
   "source": [
    "plotSS(model.sim.k_lag,model.annakss())"
   ]
  },
  {
   "attachments": {},
   "cell_type": "markdown",
   "metadata": {},
   "source": [
    "What we see here is that our model succesfully converges towards the theoretical steady state. The convergance happens rather fast which implies that the model could've successfully been simulated using fewer than 50 iterations. "
   ]
  },
  {
   "attachments": {},
   "cell_type": "markdown",
   "metadata": {},
   "source": [
    "**Addition of taxes and change of production function**"
   ]
  },
  {
   "attachments": {},
   "cell_type": "markdown",
   "metadata": {},
   "source": [
    "As a further \"extension\" to the model we have decided to check is how taxes and the change to CES production function changes the results numerically. We will not solve an analytic steady state for this as its a bit complicated. The only extension here is the inclusion of productivity and labour growth. "
   ]
  },
  {
   "cell_type": "code",
   "execution_count": null,
   "metadata": {},
   "outputs": [],
   "source": [
    "NewModel = OLGModelClass() # Create instance of model class\n",
    "par2 = NewModel.par # SimpeNamespace\n",
    "sim2 = NewModel.sim # SimpeNamespace   \n",
    "\n",
    "#´redefining parameters\n",
    "par2.production_function = 'ces'\n",
    "par2.theta = 0.05\n",
    "par2.tau_w = 0.1\n",
    "par2.tau_r = 0.1\n",
    "\n",
    "NewModel.simulate()\n",
    "\n",
    "plotKLA(NewModel.sim.K_lag,NewModel.sim.L_lag,NewModel.sim.A_lag)\n",
    "plotSS(NewModel.sim.k_lag, model.annakss())"
   ]
  },
  {
   "attachments": {},
   "cell_type": "markdown",
   "metadata": {},
   "source": [
    "As seen above the inclusion of taxes means that the steady state level for capital falls significantly from the previous steady state. This is expected since we havent included any direct recievers of these taxes. "
   ]
  },
  {
   "attachments": {},
   "cell_type": "markdown",
   "metadata": {},
   "source": [
    "# Conclusion"
   ]
  },
  {
   "attachments": {},
   "cell_type": "markdown",
   "metadata": {},
   "source": [
    "We can conclude that our model successfully simulated the OLG model with the inclusion of productivity growth and labour growth. We have also successfully incorporated these changed into both the cobb douglas production function as well as the CES production function and proved the convergence of the model."
   ]
  }
 ],
 "metadata": {
  "kernelspec": {
   "display_name": "base",
   "language": "python",
   "name": "python3"
  },
  "language_info": {
   "codemirror_mode": {
    "name": "ipython",
    "version": 3
   },
   "file_extension": ".py",
   "mimetype": "text/x-python",
   "name": "python",
   "nbconvert_exporter": "python",
   "pygments_lexer": "ipython3",
   "version": "3.9.16"
  },
  "orig_nbformat": 4
 },
 "nbformat": 4,
 "nbformat_minor": 2
}
