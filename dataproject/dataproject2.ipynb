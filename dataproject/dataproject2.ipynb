{
 "cells": [
  {
   "attachments": {},
   "cell_type": "markdown",
   "metadata": {},
   "source": [
    "# Inflation and its impact on key factors in the American economy"
   ]
  },
  {
   "cell_type": "code",
   "execution_count": null,
   "metadata": {},
   "outputs": [],
   "source": [
    "# The DST API wrapper\n",
    "#%pip install git+https://github.com/alemartinello/dstapi\n",
    "\n",
    "# A wrapper for multiple APIs with a pandas interface\n",
    "#%pip install pandas-datareader\n",
    "\n",
    "# For Venn diagrams\n",
    "#%pip install matplotlib-venn"
   ]
  },
  {
   "attachments": {},
   "cell_type": "markdown",
   "metadata": {},
   "source": [
    "Imports and set magics:"
   ]
  },
  {
   "cell_type": "code",
   "execution_count": null,
   "metadata": {},
   "outputs": [],
   "source": [
    "import pandas as pd\n",
    "import numpy as np\n",
    "import matplotlib.pyplot as plt\n",
    "import ipywidgets as widgets\n",
    "from matplotlib_venn import venn2\n",
    "from pandas_datareader import wb\n",
    "\n",
    "# autoreload modules when code is run\n",
    "%load_ext autoreload\n",
    "%autoreload 2\n",
    "\n",
    "# user written modules\n",
    "import dataproject as dp"
   ]
  },
  {
   "attachments": {},
   "cell_type": "markdown",
   "metadata": {},
   "source": [
    "# Introduction"
   ]
  },
  {
   "attachments": {},
   "cell_type": "markdown",
   "metadata": {},
   "source": [
    "This project aims to investegate how inflation is correlated to the different key factors of the American economy. As such an approximation of the Phillips curve and fisher equation is constructed to verify the relationship between unemployment and inflation and how growth in GDP is very tightly correlated to inflation. This is used to observe how changes in inflation effect the behavoir of the FED setting the interest rate.\n",
    "Economic theory states that a negative relationship between inflation and unemployment is present. This is presented through the Phillipscurve. In addition the relationship of inflation and interest are explained through the fisher equation which is given as follows:\n",
    "\n",
    "$i = r + \\pi $ note that this is without rational expations of agents and if the relationship breaks down it can stem from expectations diviating from realised values."
   ]
  },
  {
   "attachments": {},
   "cell_type": "markdown",
   "metadata": {},
   "source": [
    "# Read and clean data"
   ]
  },
  {
   "attachments": {},
   "cell_type": "markdown",
   "metadata": {},
   "source": [
    "The importation of our data is done using an API. The data will be loaded from the world bank into four different dataframes which will be merges together after individual evaluation. The dataframes imported will cover inflation rates, employment rates and the real interest rate for the United States covering the time period 1990 to 2021."
   ]
  },
  {
   "attachments": {},
   "cell_type": "markdown",
   "metadata": {},
   "source": [
    "**Fetch GDP:**"
   ]
  },
  {
   "cell_type": "code",
   "execution_count": null,
   "metadata": {},
   "outputs": [],
   "source": [
    "# Load GDP dataframe from wb using API\n",
    "wb_USAgdp = wb.download(indicator='NY.GDP.MKTP.KD.ZG', country=['USA'], start=1990, end=2021)\n",
    "\n",
    "wb_USAgdp = wb_USAgdp.rename(columns = {'NY.GDP.MKTP.KD.ZG':'GDP_growth'}) # Rename column\n",
    "wb_USAgdp = wb_USAgdp.reset_index() # Reset the index int the table\n",
    "wb_USAgdp.set_index(\"year\", inplace=True) # Setting year as index for use in plots later\n",
    "wb_USAgdp = wb_USAgdp.sort_index(ascending = True) # Sort dataframe in ascending order\n",
    "wb_USAgdp.sample(5) # Show a sample of the dataframe\n"
   ]
  },
  {
   "attachments": {},
   "cell_type": "markdown",
   "metadata": {},
   "source": [
    "**Fetch inflation:**"
   ]
  },
  {
   "cell_type": "code",
   "execution_count": null,
   "metadata": {},
   "outputs": [],
   "source": [
    "# Load inflation dataframe from wb using API\n",
    "wb_USAinf = wb.download(indicator='FP.CPI.TOTL.ZG', country=['USA'], start=1990, end=2021)\n",
    "\n",
    "wb_USAinf = wb_USAinf.rename(columns = {'FP.CPI.TOTL.ZG':'Inflation_rate'}) # Rename column\n",
    "wb_USAinf = wb_USAinf.reset_index() # Reset the index int the table\n",
    "wb_USAinf.set_index(\"year\", inplace=True) # Setting year as index for use in plots later\n",
    "wb_USAinf = wb_USAinf.sort_index(ascending = True) # Sort dataframe in ascending order\n",
    "wb_USAinf.sample(5) # Show a sample of the dataframe"
   ]
  },
  {
   "attachments": {},
   "cell_type": "markdown",
   "metadata": {},
   "source": [
    "**Fetch employment to population ratio:** "
   ]
  },
  {
   "cell_type": "code",
   "execution_count": null,
   "metadata": {},
   "outputs": [],
   "source": [
    "# Load employment dataframe from wb using API\n",
    "wb_USAemp = wb.download(indicator='SL.EMP.TOTL.SP.NE.ZS', country=['USA'], start=1990, end=2021)\n",
    "\n",
    "wb_USAemp = wb_USAemp.rename(columns = {'SL.EMP.TOTL.SP.NE.ZS':'Employment_rate'}) # Rename column\n",
    "wb_USAemp = wb_USAemp.reset_index() # Reset the index int the table\n",
    "wb_USAemp.set_index(\"year\", inplace=True) # Setting year as index for use in plots later\n",
    "wb_USAemp = wb_USAemp.sort_index(ascending = True) # Sort dataframe in ascending order\n",
    "wb_USAemp.sample(5) # Show a sample of the dataframe"
   ]
  },
  {
   "attachments": {},
   "cell_type": "markdown",
   "metadata": {},
   "source": [
    "**Fetch real interest rate:**"
   ]
  },
  {
   "cell_type": "code",
   "execution_count": null,
   "metadata": {},
   "outputs": [],
   "source": [
    "# Load real interest rate dataframe from wb using API\n",
    "wb_USAreal = wb.download(indicator='FR.INR.RINR', country=['USA'], start=1990, end=2021)\n",
    "\n",
    "wb_USAreal = wb_USAreal.rename(columns = {'FR.INR.RINR':'real_interest_rate'}) # Rename column\n",
    "wb_USAreal = wb_USAreal.reset_index() # Reset the index int the table\n",
    "wb_USAreal.set_index(\"year\", inplace=True) # Setting year as index for use in plots later\n",
    "wb_USAreal = wb_USAreal.sort_index(ascending = True) # Sort dataframe in ascending order\n",
    "wb_USAreal.sample(5) # Show a sample of the dataframe"
   ]
  },
  {
   "attachments": {},
   "cell_type": "markdown",
   "metadata": {},
   "source": [
    "As wanted all of the data fecting have been executed as intended and produces wanted dataframes."
   ]
  },
  {
   "attachments": {},
   "cell_type": "markdown",
   "metadata": {},
   "source": [
    "## Exploration of each data set"
   ]
  },
  {
   "attachments": {},
   "cell_type": "markdown",
   "metadata": {},
   "source": [
    "In the section plots of the different variables in the American economy are made to explore their individual development."
   ]
  },
  {
   "attachments": {},
   "cell_type": "markdown",
   "metadata": {},
   "source": [
    "Plot of the American annual GDP growth:"
   ]
  },
  {
   "cell_type": "code",
   "execution_count": null,
   "metadata": {},
   "outputs": [],
   "source": [
    "dp.plot_func(wb_USAgdp, \"year\", \"GDP_growth\", \"Annual GDP growth\" ) # Execute plot function from .py file"
   ]
  },
  {
   "attachments": {},
   "cell_type": "markdown",
   "metadata": {},
   "source": [
    "Plot of the American inflation rate:"
   ]
  },
  {
   "cell_type": "code",
   "execution_count": null,
   "metadata": {},
   "outputs": [],
   "source": [
    "dp.plot_func(wb_USAinf, \"year\", \"Inflation_rate\", \"Inflation\" ) # Execute plot function from .py file"
   ]
  },
  {
   "attachments": {},
   "cell_type": "markdown",
   "metadata": {},
   "source": [
    "Plot of the American employment rate:"
   ]
  },
  {
   "cell_type": "code",
   "execution_count": null,
   "metadata": {},
   "outputs": [],
   "source": [
    "dp.plot_func(wb_USAemp, \"year\", \"Employment_rate\", \"Employment\" ) # Execute plot function from .py file"
   ]
  },
  {
   "attachments": {},
   "cell_type": "markdown",
   "metadata": {},
   "source": [
    "Plot of the American real interest rate:"
   ]
  },
  {
   "cell_type": "code",
   "execution_count": null,
   "metadata": {},
   "outputs": [],
   "source": [
    "dp.plot_func(wb_USAreal, \"year\", \"real_interest_rate\", \"Real interest rate\" ) # Execute plot function from .py file"
   ]
  },
  {
   "attachments": {},
   "cell_type": "markdown",
   "metadata": {},
   "source": [
    "# Merging of data sets"
   ]
  },
  {
   "attachments": {},
   "cell_type": "markdown",
   "metadata": {},
   "source": [
    "**Merging the data sets**\n",
    "\n",
    "\n",
    "*Note that data is loaded and cleaned from the start meaning the outer method will not include missing values.*\n"
   ]
  },
  {
   "cell_type": "code",
   "execution_count": null,
   "metadata": {},
   "outputs": [],
   "source": [
    "dataset = [wb_USAgdp, wb_USAinf, wb_USAemp, wb_USAreal] # Initialize the list to iterate over\n",
    "\n",
    "la = dataset[0] # Define the baseline dataframe\n",
    "\n",
    "for i in dataset[1:]: # Loop over the different dataframes\n",
    "    la = pd.merge(la, i, how = 'outer', on = ['country','year'])\n",
    "\n",
    "la = la.round(2) # set decimals to 2\n",
    "la.head(10) # Shows head to ensure correct dateframe\n"
   ]
  },
  {
   "attachments": {},
   "cell_type": "markdown",
   "metadata": {},
   "source": [
    "As the table above shows, the four dataframes are now merged together"
   ]
  },
  {
   "attachments": {},
   "cell_type": "markdown",
   "metadata": {},
   "source": [
    "# Analysis"
   ]
  },
  {
   "attachments": {},
   "cell_type": "markdown",
   "metadata": {},
   "source": [
    "We now want to calculate the nominal interest rate to observe the relationship between the real interest and inflation which can be approximated via the fisher equation"
   ]
  },
  {
   "attachments": {},
   "cell_type": "markdown",
   "metadata": {},
   "source": [
    "A variable of the nominal interest rate is added to the \"la\" dataframe using the fisher equation"
   ]
  },
  {
   "cell_type": "code",
   "execution_count": null,
   "metadata": {},
   "outputs": [],
   "source": [
    "la[\"Nominal_interest_rate\"] = la.real_interest_rate + la.Inflation_rate # calculate new variable to the dataframe using fisher equation\n",
    "la.sample(5) # Ensures correct dateframe"
   ]
  },
  {
   "attachments": {},
   "cell_type": "markdown",
   "metadata": {},
   "source": [
    "**Fischer approximation**"
   ]
  },
  {
   "attachments": {},
   "cell_type": "markdown",
   "metadata": {},
   "source": [
    "Now we want to plot the variables from the fischer equation to see how they depend on each other, and if this applies to economic theory"
   ]
  },
  {
   "cell_type": "code",
   "execution_count": null,
   "metadata": {},
   "outputs": [],
   "source": [
    "fig = plt.figure(figsize=(10, 6))\n",
    "ax = fig.add_subplot(1,1,1)\n",
    "# Plotting directly from the pandas dataframe. Still using matplotlib under the hood.\n",
    "plt.plot(la.Inflation_rate, label=\"Inflation rate\") # Plot the inflation \n",
    "plt.plot(la.real_interest_rate, label=\"Real interest rate\") # Plot the real interest    \n",
    "plt.plot(la.Nominal_interest_rate, label=\"Nominal interest rate\") # Plot nominal interest\n",
    "\n",
    "ax.legend(frameon=True) # Shows legend\n",
    "ax.set_xlabel('') # Label x axis\n",
    "ax.set_ylabel('pct'); # Label y axis\n",
    "ax.set_title(\"Devoplment in the interest rates and inflation\") # Figure title\n",
    "ax.tick_params(axis='x', rotation=45) # Rotate x-axis to fit labeling"
   ]
  },
  {
   "attachments": {},
   "cell_type": "markdown",
   "metadata": {},
   "source": [
    "The figure shows that for 1990-2021, the nominal interest rate and inflation tend to follow the same pattern of behaviour. It should be noted that for most of the periods this tendency seems to be consistant for the real interest rate aswell except for periods of economic turmoil where the FED seek to stimulate the economy by lowering the real interest rate (assuming that the FED follows a commited monetary policy strategy) which is the gap between the inflation rate and nominal interest. This is under the fischer equation which as mentioned is not entirely correct but a decent approximation."
   ]
  },
  {
   "attachments": {},
   "cell_type": "markdown",
   "metadata": {},
   "source": [
    "**Phillips Curve**"
   ]
  },
  {
   "attachments": {},
   "cell_type": "markdown",
   "metadata": {},
   "source": [
    "We also want analyze the validity of the Phillips Curve which explains the relationship between the inflation rate and unemployment. theory dictates a negative corralation between the two. Although it has been discussed alot whether the Phillips Curve hold up in reality. This is just a high level approach to illutrate a potential relationship, and therefore a precise economic interpretation is not able to be made from this representation of the Phillips Curve without an expansion of theory.   "
   ]
  },
  {
   "cell_type": "code",
   "execution_count": null,
   "metadata": {},
   "outputs": [],
   "source": [
    "fig = plt.figure(figsize=(10, 6))\n",
    "ax = fig.add_subplot(1,1,1)\n",
    "# Plotting directly from the pandas dataframe. Still using matplotlib under the hood.\n",
    "ax.scatter(100-la.Employment_rate, la.Inflation_rate)\n",
    "\n",
    "# calculate and plot trendline\n",
    "z = np.polyfit(100-la.Employment_rate, la.Inflation_rate, 1)\n",
    "p = np.poly1d(z)\n",
    "ax.plot(100-la.Employment_rate,p(100-la.Employment_rate),\"r\")\n",
    "\n",
    "ax.text(42, 2.2, p) # add the equation for the trend to plot\n",
    "\n",
    "ax.set_xlabel('Unemployment rate') # Label x-axis\n",
    "ax.set_ylabel('Inflation rate'); # label y-axis\n",
    "ax.set_title(\"Linear approximation of the Phillips Curve\") # Set title \n",
    "ax.tick_params(axis='x', rotation=45) # Rotate x-axis to fit labeling"
   ]
  },
  {
   "attachments": {},
   "cell_type": "markdown",
   "metadata": {},
   "source": [
    "The relationship between inflation and unemployment seem to be negative as the theory dictates."
   ]
  },
  {
   "attachments": {},
   "cell_type": "markdown",
   "metadata": {},
   "source": [
    "# Conclusion"
   ]
  },
  {
   "attachments": {},
   "cell_type": "markdown",
   "metadata": {},
   "source": [
    "Based on the the analysis it can be concluded that an indication of the obsverved relationsships and patterns are in line with what economic thoery would suggest. We find the relationship explained by the Phillips Curve, as data suggests a negative correlations between uneemployment and inflation. \n",
    "It is also observed that the nominal interest rate trends together with the changes in inflation which again comply with economic theory.\n",
    "Data also suggest that a positive correlation exits between real interest rates and shocks to GDP confriming the anticipated response where central banks indirectly adjust real interest rates to stimulate economic activity when economic turmoil is present.\n",
    "\n",
    "It is important to underline that our analysis does not provide a complete economic interpretation due to the simplicity of the model. In order to understand the underlying mechanisms in depth a requirement would be to extend the model with more details. However, the simplicity and overall findings contributes to the general understanding of the the Phillips Curve and the Fisher equation."
   ]
  }
 ],
 "metadata": {
  "kernelspec": {
   "display_name": "base",
   "language": "python",
   "name": "python3"
  },
  "language_info": {
   "codemirror_mode": {
    "name": "ipython",
    "version": 3
   },
   "file_extension": ".py",
   "mimetype": "text/x-python",
   "name": "python",
   "nbconvert_exporter": "python",
   "pygments_lexer": "ipython3",
   "version": "3.9.16"
  },
  "toc-autonumbering": true,
  "vscode": {
   "interpreter": {
    "hash": "47ef90cdf3004d3f859f1fb202523c65c07ba7c22eefd261b181f4744e2d0403"
   }
  }
 },
 "nbformat": 4,
 "nbformat_minor": 4
}
